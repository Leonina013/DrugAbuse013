{
 "cells": [
  {
   "cell_type": "code",
   "execution_count": 1,
   "metadata": {},
   "outputs": [],
   "source": [
    "import pandas as pd\n",
    "import numpy as np\n",
    "import seaborn as sns\n",
    "import matplotlib.pyplot as plt\n",
    "%matplotlib inline"
   ]
  },
  {
   "cell_type": "code",
   "execution_count": 2,
   "metadata": {},
   "outputs": [],
   "source": [
    "file = '..//data//nsduh_selected.csv'\n",
    "main_data = pd.read_csv(file, sep=',')"
   ]
  },
  {
   "cell_type": "code",
   "execution_count": 3,
   "metadata": {},
   "outputs": [],
   "source": [
    "from sklearn.model_selection import train_test_split\n",
    "from sklearn.model_selection import cross_val_score, cross_val_predict\n",
    "from sklearn.model_selection import StratifiedKFold"
   ]
  },
  {
   "cell_type": "code",
   "execution_count": 4,
   "metadata": {},
   "outputs": [],
   "source": [
    "x = main_data.drop('RISKGR',axis=1)\n",
    "y = main_data['RISKGR']\n",
    "x_train, x_test, y_train, y_test = train_test_split(x, y, test_size=0.3, random_state=121)"
   ]
  },
  {
   "cell_type": "code",
   "execution_count": 22,
   "metadata": {
    "collapsed": true
   },
   "outputs": [
    {
     "data": {
      "text/plain": [
       "{0: Int64Index([44430, 12595, 22049, 44109, 54722, 19345, 18298, 41801, 38675,\n",
       "             17793,\n",
       "             ...\n",
       "              4391,  8678, 48111, 32820, 33716, 19198, 30754, 36351, 37333,\n",
       "             11586],\n",
       "            dtype='int64', length=15619),\n",
       " 1: Int64Index([51587, 47581, 42403, 12862, 14754, 14676, 28945,  6922, 52089,\n",
       "             31177,\n",
       "             ...\n",
       "              9523, 30558, 25399,  7225, 44547, 22582, 29280, 24915, 54964,\n",
       "             28148],\n",
       "            dtype='int64', length=13631),\n",
       " 2: Int64Index([53020,  9654, 37439, 26126, 39541, 32172, 50856, 41209,  6069,\n",
       "              8217,\n",
       "             ...\n",
       "             49037, 22388, 29651,  9944,  1099,  4073, 31710, 43068, 26670,\n",
       "             51265],\n",
       "            dtype='int64', length=10143)}"
      ]
     },
     "execution_count": 22,
     "metadata": {},
     "output_type": "execute_result"
    }
   ],
   "source": [
    "df_train = pd.DataFrame(y_train)\n",
    "df_train.groupby('RISKGR').groups\n",
    "# main_data.head()"
   ]
  },
  {
   "cell_type": "code",
   "execution_count": 5,
   "metadata": {},
   "outputs": [],
   "source": [
    "from sklearn.ensemble import RandomForestClassifier"
   ]
  },
  {
   "cell_type": "code",
   "execution_count": 9,
   "metadata": {},
   "outputs": [
    {
     "data": {
      "text/plain": [
       "StratifiedKFold(n_splits=10, random_state=None, shuffle=False)"
      ]
     },
     "execution_count": 9,
     "metadata": {},
     "output_type": "execute_result"
    }
   ],
   "source": [
    "cv_test = StratifiedKFold(n_splits=10)\n",
    "cv_test"
   ]
  },
  {
   "cell_type": "code",
   "execution_count": 6,
   "metadata": {},
   "outputs": [],
   "source": [
    "rfc_model = RandomForestClassifier(bootstrap=True, criterion=\"gini\", max_features=0.3, min_samples_leaf=18,\n",
    "                                   min_samples_split=19, n_estimators=100)\n",
    "\n",
    "predictions = cross_val_predict(rfc_model, x,y, cv=StratifiedKFold(n_splits=10))\n",
    "# score = cross_val_score(rfc_model, x, y, scoring='accuracy', cv = 10)\n",
    "# rfc_accuracy = score.mean() * 100"
   ]
  },
  {
   "cell_type": "code",
   "execution_count": 8,
   "metadata": {},
   "outputs": [],
   "source": [
    "score = cross_val_score(rfc_model, x, y, scoring='accuracy', cv = StratifiedKFold(n_splits=10))\n",
    "rfc_accuracy = score.mean() * 100"
   ]
  },
  {
   "cell_type": "code",
   "execution_count": 9,
   "metadata": {},
   "outputs": [
    {
     "data": {
      "text/plain": [
       "78.38334530633313"
      ]
     },
     "execution_count": 9,
     "metadata": {},
     "output_type": "execute_result"
    }
   ],
   "source": [
    "rfc_accuracy"
   ]
  },
  {
   "cell_type": "code",
   "execution_count": 10,
   "metadata": {},
   "outputs": [],
   "source": [
    "from sklearn.metrics import classification_report,confusion_matrix"
   ]
  },
  {
   "cell_type": "code",
   "execution_count": 11,
   "metadata": {},
   "outputs": [
    {
     "name": "stdout",
     "output_type": "stream",
     "text": [
      "Random Forest accuracy: 78.38334530633313\n",
      "              precision    recall  f1-score   support\n",
      "\n",
      "           0       0.94      0.95      0.95     22301\n",
      "           1       0.67      0.76      0.71     19467\n",
      "           2       0.69      0.55      0.61     14508\n",
      "\n",
      "   micro avg       0.78      0.78      0.78     56276\n",
      "   macro avg       0.77      0.75      0.76     56276\n",
      "weighted avg       0.78      0.78      0.78     56276\n",
      "\n",
      "[[21234  1027    40]\n",
      " [ 1074 14785  3608]\n",
      " [  169  6344  7995]]\n"
     ]
    }
   ],
   "source": [
    "print(\"Random Forest accuracy: {}\".format(rfc_accuracy))\n",
    "print(classification_report(y,predictions))\n",
    "print(confusion_matrix(y, predictions))"
   ]
  },
  {
   "cell_type": "code",
   "execution_count": 12,
   "metadata": {},
   "outputs": [
    {
     "data": {
      "image/png": "[encoded data removed]",
      "text/plain": [
       "<Figure size 432x288 with 2 Axes>"
      ]
     },
     "metadata": {
      "needs_background": "light"
     },
     "output_type": "display_data"
    }
   ],
   "source": [
    "sns.heatmap(confusion_matrix(y, predictions), annot=True, cmap=\"Greens\",fmt='g', annot_kws={\"size\": 15})\n",
    "plt.xlabel('Predicted Classes')\n",
    "plt.ylabel('Real Classes')\n",
    "plt.savefig('..//images//confusion_rfc.jpg', dpi = 300)"
   ]
  },
  {
   "cell_type": "code",
   "execution_count": null,
   "metadata": {},
   "outputs": [],
   "source": []
  },
  {
   "cell_type": "code",
   "execution_count": null,
   "metadata": {},
   "outputs": [],
   "source": []
  }
 ],
 "metadata": {
  "kernelspec": {
   "display_name": "Python 3",
   "language": "python",
   "name": "python3"
  },
  "language_info": {
   "codemirror_mode": {
    "name": "ipython",
    "version": 3
   },
   "file_extension": ".py",
   "mimetype": "text/x-python",
   "name": "python",
   "nbconvert_exporter": "python",
   "pygments_lexer": "ipython3",
   "version": "3.7.1"
  }
 },
 "nbformat": 4,
 "nbformat_minor": 2
}
